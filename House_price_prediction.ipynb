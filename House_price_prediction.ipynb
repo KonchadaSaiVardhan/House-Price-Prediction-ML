import pandas as pd
import numpy as np
import seaborn as sns
from sklearn.model_selection import train_test_split
from sklearn.preprocessing import PolynomialFeatures, StandardScaler
from sklearn.linear_model import LinearRegression
from sklearn.metrics import mean_absolute_error, mean_squared_error, r2_score
from ipywidgets import interact_manual  # For interactive input in Colab

# Load dataset
file_path = "/content/CALIFONIA HOUSE PRICES.csv"
df = pd.read_csv(file_path)

# Drop missing values
df = df.dropna()

# Define features and target
feature_columns = [
    'Median_Income', 'Median_Age', 'Tot_Rooms', 'Tot_Bedrooms', 'Population',
    'Households', 'Latitude', 'Longitude', 'Distance_to_coast', 'Distance_to_LA',
    'Distance_to_SanDiego', 'Distance_to_SanJose', 'Distance_to_SanFrancisco'
]
target_column = 'price'

X = df[feature_columns]
y = df[target_column]

# Polynomial features
poly = PolynomialFeatures(degree=1, include_bias=False)
X_poly = poly.fit_transform(X)
poly_feature_names = poly.get_feature_names_out(feature_columns)
X_poly_df = pd.DataFrame(X_poly, columns=poly_feature_names)

# Train-test split
X_train, X_test, y_train, y_test = train_test_split(X_poly_df, y, test_size=0.2, random_state=42)

# Standardization
scaler = StandardScaler()
X_train_scaled = scaler.fit_transform(X_train)
X_test_scaled = scaler.transform(X_test)

# Train model
model = LinearRegression()
model.fit(X_train_scaled, y_train)

# Predictions
y_pred = model.predict(X_test_scaled)

# Evaluation
mae = mean_absolute_error(y_test, y_pred)
rmse = np.sqrt(mean_squared_error(y_test, y_pred))
r2 = r2_score(y_test, y_pred)

print("\n📊 Model Performance Metrics:")
print(f"🔹 Mean Absolute Error (MAE): {mae}")
print(f"🔹 Root Mean Squared Error (RMSE): {rmse}")
print(f"🔹 R² Score: {r2}")

# Interactive prediction function
def predict_price(Median_Income, Median_Age, Tot_Rooms, Tot_Bedrooms, Population,
                  Households, Latitude, Longitude, Distance_to_coast, Distance_to_LA,
                  Distance_to_SanDiego, Distance_to_SanJose, Distance_to_SanFrancisco):
    
    user_input_df = pd.DataFrame([[Median_Income, Median_Age, Tot_Rooms, Tot_Bedrooms, Population,
                                    Households, Latitude, Longitude, Distance_to_coast, Distance_to_LA,
                                    Distance_to_SanDiego, Distance_to_SanJose, Distance_to_SanFrancisco]],
                                  columns=feature_columns)

    user_input_poly = poly.transform(user_input_df)
    user_input_scaled = scaler.transform(user_input_poly)
    prediction = model.predict(user_input_scaled)

    print(f"\n🏠 Estimated House Price: ${prediction[0]:,.2f}")

# Create interactive widget (only works in Jupyter/Colab)
interact_manual(
    predict_price,
    Median_Income=(0, 15, 0.1),
    Median_Age=(0, 100, 1),
    Tot_Rooms=(0, 10000, 10),
    Tot_Bedrooms=(0, 2000, 10),
    Population=(0, 10000, 50),
    Households=(0, 5000, 10),
    Latitude=(32, 42, 0.1),
    Longitude=(-125, -114, 0.1),
    Distance_to_coast=(0, 10000, 10),
    Distance_to_LA=(0, 800000, 1000),
    Distance_to_SanDiego=(0, 1000000, 1000),
    Distance_to_SanJose=(0, 800000, 1000),
    Distance_to_SanFrancisco=(0, 300000, 1000),
)
